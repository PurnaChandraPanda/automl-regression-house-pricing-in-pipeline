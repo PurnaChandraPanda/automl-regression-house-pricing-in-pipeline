{
 "cells": [
  {
   "cell_type": "markdown",
   "metadata": {},
   "source": [
    "# AutoML in pipeline\n",
    "\n",
    "**Requirements** - In order to benefit from this tutorial, you will need:\n",
    "- A basic understanding of Machine Learning\n",
    "- An Azure account with an active subscription - [Create an account for free](https://azure.microsoft.com/free/?WT.mc_id=A261C142F)\n",
    "- An Azure ML workspace with computer cluster - [Configure workspace](../../../configuration.ipynb)\n",
    "- A python environment\n",
    "- Installed Azure Machine Learning Python SDK v2 - [install instructions](../../../../README.md) - check the getting started section\n",
    "\n",
    "**Learning Objectives** - By the end of this tutorial, you should be able to:\n",
    "- Create a pipeline with Regression AutoML task.\n",
    "\n",
    "**Motivations** - This notebook explains how to use Regression AutoML task inside pipeline."
   ]
  },
  {
   "cell_type": "markdown",
   "metadata": {},
   "source": [
    "# 1. Connect to Azure Machine Learning Workspace\n",
    "\n",
    "The [workspace](https://docs.microsoft.com/en-us/azure/machine-learning/concept-workspace) is the top-level resource for Azure Machine Learning, providing a centralized place to work with all the artifacts you create when you use Azure Machine Learning. In this section we will connect to the workspace in which the job will be run.\n",
    "\n",
    "## 1.1 Import the required libraries"
   ]
  },
  {
   "cell_type": "code",
   "execution_count": 15,
   "metadata": {},
   "outputs": [],
   "source": [
    "# import required libraries\n",
    "from azure.identity import DefaultAzureCredential, InteractiveBrowserCredential\n",
    "\n",
    "from azure.ai.ml import MLClient, Input, command, Output\n",
    "from azure.ai.ml.dsl import pipeline\n",
    "from azure.ai.ml.automl import classification, regression\n",
    "from azure.ai.ml.entities._job.automl.tabular import TabularFeaturizationSettings\n",
    "from azure.ai.ml.entities import Environment"
   ]
  },
  {
   "cell_type": "markdown",
   "metadata": {},
   "source": [
    "## 1.2 Configure credential\n",
    "\n",
    "We are using `DefaultAzureCredential` to get access to workspace. \n",
    "`DefaultAzureCredential` should be capable of handling most Azure SDK authentication scenarios. \n",
    "\n",
    "Reference for more available credentials if it does not work for you: [configure credential example](../../../configuration.ipynb), [azure-identity reference doc](https://docs.microsoft.com/en-us/python/api/azure-identity/azure.identity?view=azure-python)."
   ]
  },
  {
   "cell_type": "code",
   "execution_count": 16,
   "metadata": {},
   "outputs": [],
   "source": [
    "try:\n",
    "    credential = DefaultAzureCredential()\n",
    "    # Check if given credential can get token successfully.\n",
    "    credential.get_token(\"https://management.azure.com/.default\")\n",
    "except Exception as ex:\n",
    "    # Fall back to InteractiveBrowserCredential in case DefaultAzureCredential not work\n",
    "    credential = InteractiveBrowserCredential()"
   ]
  },
  {
   "cell_type": "markdown",
   "metadata": {},
   "source": [
    "## 1.3 Get a handle to the workspace\n",
    "\n",
    "We use config file to connect to a workspace. The Azure ML workspace should be configured with computer cluster. [Check this notebook for configure a workspace](../../../configuration.ipynb)"
   ]
  },
  {
   "cell_type": "code",
   "execution_count": 17,
   "metadata": {},
   "outputs": [
    {
     "name": "stderr",
     "output_type": "stream",
     "text": [
      "Found the config file in: /config.json\n",
      "Overriding of current TracerProvider is not allowed\n",
      "Overriding of current LoggerProvider is not allowed\n",
      "Overriding of current MeterProvider is not allowed\n",
      "Attempting to instrument while already instrumented\n",
      "Attempting to instrument while already instrumented\n",
      "Attempting to instrument while already instrumented\n",
      "Attempting to instrument while already instrumented\n"
     ]
    },
    {
     "name": "stdout",
     "output_type": "stream",
     "text": [
      "enable_node_public_ip: true\n",
      "id: /subscriptions/6977e295-0d7c-4557-8e0b-26e2f6532103/resourceGroups/rg-mlws/providers/Microsoft.MachineLearningServices/workspaces/mlws01/computes/cpu-cluster\n",
      "idle_time_before_scale_down: 120\n",
      "location: eastus2\n",
      "max_instances: 2\n",
      "min_instances: 0\n",
      "name: cpu-cluster\n",
      "provisioning_state: Succeeded\n",
      "size: Standard_DS11_v2\n",
      "ssh_public_access_enabled: false\n",
      "tier: dedicated\n",
      "type: amlcompute\n",
      "\n"
     ]
    }
   ],
   "source": [
    "# Get a handle to workspace\n",
    "ml_client = MLClient.from_config(credential=credential)\n",
    "\n",
    "# Retrieve an already attached Azure Machine Learning Compute.\n",
    "cluster_name = \"cpu-cluster\"\n",
    "print(ml_client.compute.get(cluster_name))"
   ]
  },
  {
   "cell_type": "markdown",
   "metadata": {},
   "source": [
    "# 3. Basic pipeline job with regression task\n",
    "\n",
    "## 3.1 Build pipeline"
   ]
  },
  {
   "cell_type": "code",
   "execution_count": 18,
   "metadata": {},
   "outputs": [
    {
     "data": {
      "text/plain": [
       "Environment({'arm_type': 'environment_version', 'latest_version': None, 'image': 'mcr.microsoft.com/azureml/openmpi4.1.0-ubuntu20.04', 'intellectual_property': None, 'is_anonymous': False, 'auto_increment_version': False, 'auto_delete_setting': None, 'name': 'pipeline-custom-environment', 'description': 'Environment created from a Docker image plus Conda environment.', 'tags': {}, 'properties': {'azureml.labels': 'latest'}, 'print_as_yaml': False, 'id': '/subscriptions/6977e295-0d7c-4557-8e0b-26e2f6532103/resourceGroups/rg-mlws/providers/Microsoft.MachineLearningServices/workspaces/mlws01/environments/pipeline-custom-environment/versions/1', 'Resource__source_path': '', 'base_path': '/mnt/batch/tasks/shared/LS_root/mounts/clusters/cpuds11002/code/Users/pupanda/azureml/automl/automl-regression-house-pricing-in-pipeline', 'creation_context': <azure.ai.ml.entities._system_data.SystemData object at 0x76d7eb39cbe0>, 'serialize': <msrest.serialization.Serializer object at 0x76d7eb2ffbe0>, 'version': '1', 'conda_file': {'channels': ['conda-forge'], 'dependencies': ['python=3.8', 'numpy=1.21.2', 'pip=21.2.4', 'scikit-learn=0.24.2', 'scipy=1.7.1', 'pandas>=1.1,<1.2', {'pip': ['inference-schema[numpy-support]==1.3.0', 'xlrd==2.0.1', 'azureml-mlflow==1.42.0', 'mltable==0.1.0b4', 'pyyaml==6.0']}], 'name': 'model-env'}, 'build': None, 'inference_config': None, 'os_type': 'Linux', 'conda_file_path': None, 'path': None, 'datastore': None, 'upload_hash': None, 'translated_conda_file': '{\\n  \"channels\": [\\n    \"conda-forge\"\\n  ],\\n  \"dependencies\": [\\n    \"python=3.8\",\\n    \"numpy=1.21.2\",\\n    \"pip=21.2.4\",\\n    \"scikit-learn=0.24.2\",\\n    \"scipy=1.7.1\",\\n    \"pandas>=1.1,<1.2\",\\n    {\\n      \"pip\": [\\n        \"inference-schema[numpy-support]==1.3.0\",\\n        \"xlrd==2.0.1\",\\n        \"azureml-mlflow==1.42.0\",\\n        \"mltable==0.1.0b4\",\\n        \"pyyaml==6.0\"\\n      ]\\n    }\\n  ],\\n  \"name\": \"model-env\"\\n}'})"
      ]
     },
     "execution_count": 18,
     "metadata": {},
     "output_type": "execute_result"
    }
   ],
   "source": [
    "env_docker_conda = Environment(\n",
    "    image=\"mcr.microsoft.com/azureml/openmpi4.1.0-ubuntu20.04\",\n",
    "    conda_file=\"./environment/preprocessing_env.yaml\",\n",
    "    name=\"pipeline-custom-environment\",\n",
    "    description=\"Environment created from a Docker image plus Conda environment.\",\n",
    ")\n",
    "ml_client.environments.create_or_update(env_docker_conda)"
   ]
  },
  {
   "cell_type": "code",
   "execution_count": 19,
   "metadata": {},
   "outputs": [],
   "source": [
    "# Define pipeline\n",
    "@pipeline(\n",
    "    description=\"AutoML Regression Pipeline\",\n",
    ")\n",
    "def automl_regression(\n",
    "    regression_train_data, regression_validation_data, regression_test_data\n",
    "):\n",
    "    # define command function for preprocessing the model\n",
    "    preprocessing_command_func = command(\n",
    "        inputs=dict(\n",
    "            train_data=Input(type=\"mltable\"),\n",
    "            validation_data=Input(type=\"mltable\"),\n",
    "            test_data=Input(type=\"mltable\"),\n",
    "        ),\n",
    "        outputs=dict(\n",
    "            preprocessed_train_data=Output(type=\"mltable\"),\n",
    "            preprocessed_validation_data=Output(type=\"mltable\"),\n",
    "            preprocessed_test_data=Output(type=\"mltable\"),\n",
    "        ),\n",
    "        code=\"./preprocess.py\",\n",
    "        command=\"python preprocess.py \"\n",
    "        + \"--train_data ${{inputs.train_data}} \"\n",
    "        + \"--validation_data ${{inputs.validation_data}} \"\n",
    "        + \"--test_data ${{inputs.test_data}} \"\n",
    "        + \"--preprocessed_train_data ${{outputs.preprocessed_train_data}} \"\n",
    "        + \"--preprocessed_validation_data ${{outputs.preprocessed_validation_data}} \"\n",
    "        + \"--preprocessed_test_data ${{outputs.preprocessed_test_data}}\",\n",
    "        environment=\"pipeline-custom-environment@latest\",\n",
    "    )\n",
    "    preprocess_node = preprocessing_command_func(\n",
    "        train_data=regression_train_data,\n",
    "        validation_data=regression_validation_data,\n",
    "        test_data=regression_test_data,\n",
    "    )\n",
    "\n",
    "    # define the AutoML regression task with AutoML function\n",
    "    regression_node = regression(\n",
    "        primary_metric=\"r2_score\",\n",
    "        target_column_name=\"SalePrice\",\n",
    "        training_data=preprocess_node.outputs.preprocessed_train_data,\n",
    "        validation_data=preprocess_node.outputs.preprocessed_validation_data,\n",
    "        test_data=preprocess_node.outputs.preprocessed_test_data,\n",
    "        featurization=TabularFeaturizationSettings(mode=\"off\"),\n",
    "        # currently need to specify outputs \"mlflow_model\" explicitly to reference it in following nodes\n",
    "        outputs={\"best_model\": Output(type=\"mlflow_model\")},\n",
    "    )\n",
    "    # set limits & training\n",
    "    regression_node.set_limits(max_trials=1, max_concurrent_trials=1)\n",
    "    regression_node.set_training(\n",
    "        enable_stack_ensemble=False, enable_vote_ensemble=False\n",
    "    )\n",
    "\n",
    "    # define command function for registering the model\n",
    "    command_func = command(\n",
    "        inputs=dict(\n",
    "            model_input_path=Input(type=\"mlflow_model\"),\n",
    "            model_base_name=\"regression_example_model\",\n",
    "        ),\n",
    "        code=\"./register.py\",\n",
    "        command=\"python register.py \"\n",
    "        + \"--model_input_path ${{inputs.model_input_path}} \"\n",
    "        + \"--model_base_name ${{inputs.model_base_name}}\",\n",
    "        environment=\"azureml://registries/azureml/environments/sklearn-1.5/labels/latest\",\n",
    "    )\n",
    "    register_model = command_func(model_input_path=regression_node.outputs.best_model)\n",
    "\n",
    "\n",
    "pipeline_regression = automl_regression(\n",
    "    regression_train_data=Input(path=\"./training-mltable-folder/\", type=\"mltable\"),\n",
    "    regression_validation_data=Input(\n",
    "        path=\"./validation-mltable-folder/\", type=\"mltable\"\n",
    "    ),\n",
    "    regression_test_data=Input(path=\"./test-mltable-folder/\", type=\"mltable\"),\n",
    ")\n",
    "\n",
    "# set pipeline level settings\n",
    "pipeline_regression.settings.default_compute = \"cpu-cluster\"\n",
    "pipeline_regression.settings.force_rerun = True"
   ]
  },
  {
   "cell_type": "markdown",
   "metadata": {},
   "source": [
    "# 3.2 Submit pipeline job"
   ]
  },
  {
   "cell_type": "code",
   "execution_count": null,
   "metadata": {},
   "outputs": [],
   "source": [
    "# submit the pipeline job\n",
    "pipeline_job = ml_client.jobs.create_or_update(\n",
    "    pipeline_regression, experiment_name=\"pipeline_samples\"\n",
    ")\n",
    "pipeline_job"
   ]
  },
  {
   "cell_type": "code",
   "execution_count": null,
   "metadata": {},
   "outputs": [],
   "source": [
    "# Wait until the job completes\n",
    "ml_client.jobs.stream(pipeline_job.name)"
   ]
  },
  {
   "cell_type": "code",
   "execution_count": 25,
   "metadata": {},
   "outputs": [
    {
     "name": "stdout",
     "output_type": "stream",
     "text": [
      "<class 'azure.ai.ml.entities._job.pipeline.pipeline_job.PipelineJob'>\n"
     ]
    }
   ],
   "source": [
    "print(type(pipeline_regression))"
   ]
  },
  {
   "cell_type": "code",
   "execution_count": 24,
   "metadata": {},
   "outputs": [
    {
     "name": "stdout",
     "output_type": "stream",
     "text": [
      "<class 'azure.ai.ml.entities._job.pipeline.pipeline_job.PipelineJob'>\n"
     ]
    }
   ],
   "source": [
    "print(type(pipeline_job))"
   ]
  },
  {
   "cell_type": "markdown",
   "metadata": {},
   "source": [
    "## Schedule the pipeline job"
   ]
  },
  {
   "cell_type": "code",
   "execution_count": 26,
   "metadata": {},
   "outputs": [],
   "source": [
    "from azure.ai.ml.entities import (\n",
    "    JobSchedule,\n",
    "    CronTrigger,\n",
    "    RecurrenceTrigger,\n",
    "    RecurrencePattern,\n",
    ")\n",
    "from azure.ai.ml.constants import TimeZone\n",
    "from datetime import datetime, timezone"
   ]
  },
  {
   "cell_type": "code",
   "execution_count": null,
   "metadata": {},
   "outputs": [],
   "source": [
    "schedule_name = \"schedule_recurrence_daily\"\n",
    "\n",
    "# every day at 1:00 and 1:30 UTC\n",
    "recurrence_trigger = RecurrenceTrigger(\n",
    "    frequency=\"day\",\n",
    "    interval=1,\n",
    "    schedule=RecurrencePattern(hours=1, minutes=[0, 30]),\n",
    "    time_zone=TimeZone.UTC,\n",
    ")\n",
    "\n",
    "\n",
    "job_schedule = JobSchedule(\n",
    "    name=schedule_name, \n",
    "    trigger=recurrence_trigger,\n",
    "    create_job=pipeline_regression\n",
    ")"
   ]
  },
  {
   "cell_type": "code",
   "execution_count": null,
   "metadata": {},
   "outputs": [],
   "source": [
    "# Create the job schedule\n",
    "job_schedule_result = ml_client.schedules.begin_create_or_update(\n",
    "    schedule=job_schedule\n",
    ").result()\n",
    "\n",
    "print(job_schedule_result)"
   ]
  },
  {
   "cell_type": "code",
   "execution_count": 36,
   "metadata": {},
   "outputs": [
    {
     "data": {
      "text/plain": [
       "['schedule_recurrence_daily']"
      ]
     },
     "execution_count": 36,
     "metadata": {},
     "output_type": "execute_result"
    }
   ],
   "source": [
    "# List schedules in a workspace\n",
    "schedules = ml_client.schedules.list()\n",
    "[s.name for s in schedules]"
   ]
  },
  {
   "cell_type": "code",
   "execution_count": 39,
   "metadata": {},
   "outputs": [
    {
     "data": {
      "text/plain": [
       "['schedule_recurrence_daily', True]"
      ]
     },
     "execution_count": 39,
     "metadata": {},
     "output_type": "execute_result"
    }
   ],
   "source": [
    "# Check details of the schedule\n",
    "created_schedule = ml_client.schedules.get(name=schedule_name)\n",
    "[created_schedule.name, created_schedule.is_enabled]"
   ]
  },
  {
   "cell_type": "code",
   "execution_count": null,
   "metadata": {},
   "outputs": [],
   "source": [
    "# # Disable schedule\n",
    "# job_schedule = ml_client.schedules.begin_disable(name=schedule_name).result()\n",
    "# job_schedule.is_enabled"
   ]
  },
  {
   "cell_type": "code",
   "execution_count": null,
   "metadata": {},
   "outputs": [],
   "source": [
    "# # Only disabled schedules can be deleted\n",
    "# ml_client.schedules.begin_disable(name=schedule_name).result()\n",
    "# ml_client.schedules.begin_delete(name=schedule_name).result()"
   ]
  }
 ],
 "metadata": {
  "description": {
   "description": "Create pipeline with automl node"
  },
  "kernelspec": {
   "display_name": "azureml_py310_sdkv2",
   "language": "python",
   "name": "python3"
  },
  "language_info": {
   "codemirror_mode": {
    "name": "ipython",
    "version": 3
   },
   "file_extension": ".py",
   "mimetype": "text/x-python",
   "name": "python",
   "nbconvert_exporter": "python",
   "pygments_lexer": "ipython3",
   "version": "3.10.18"
  }
 },
 "nbformat": 4,
 "nbformat_minor": 4
}
